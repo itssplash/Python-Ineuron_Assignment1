{
 "cells": [
  {
   "cell_type": "markdown",
   "id": "868ab42b",
   "metadata": {},
   "source": [
    "# Question1"
   ]
  },
  {
   "cell_type": "code",
   "execution_count": 7,
   "id": "870aed41",
   "metadata": {},
   "outputs": [
    {
     "data": {
      "text/plain": [
       "str"
      ]
     },
     "execution_count": 7,
     "metadata": {},
     "output_type": "execute_result"
    }
   ],
   "source": [
    "type('hello')"
   ]
  },
  {
   "cell_type": "code",
   "execution_count": 8,
   "id": "4deca952",
   "metadata": {},
   "outputs": [
    {
     "data": {
      "text/plain": [
       "float"
      ]
     },
     "execution_count": 8,
     "metadata": {},
     "output_type": "execute_result"
    }
   ],
   "source": [
    "type(-87.8)"
   ]
  },
  {
   "cell_type": "markdown",
   "id": "d5b157b0",
   "metadata": {},
   "source": [
    "- , / , + - Mathematical Operators"
   ]
  },
  {
   "cell_type": "code",
   "execution_count": 9,
   "id": "c2581434",
   "metadata": {},
   "outputs": [
    {
     "data": {
      "text/plain": [
       "int"
      ]
     },
     "execution_count": 9,
     "metadata": {},
     "output_type": "execute_result"
    }
   ],
   "source": [
    "type(6)"
   ]
  },
  {
   "cell_type": "markdown",
   "id": "543adf38",
   "metadata": {},
   "source": [
    "# Q2 - Difference between String and Variable"
   ]
  },
  {
   "cell_type": "markdown",
   "id": "47a1f0c5",
   "metadata": {},
   "source": [
    "Variable is a store of information , and a string is a type of information that will be stored in the variable."
   ]
  },
  {
   "cell_type": "markdown",
   "id": "fd49629b",
   "metadata": {},
   "source": [
    "# Q-3 "
   ]
  },
  {
   "cell_type": "markdown",
   "id": "b1a5533e",
   "metadata": {},
   "source": [
    "1. Bool - It is a data type which has only two ouputs - True and Flase , True =1 and Flase =0"
   ]
  },
  {
   "cell_type": "markdown",
   "id": "8b0cd8db",
   "metadata": {},
   "source": [
    "List - It is a type of entity  in which we can store infinite number of variable with any type - a = [1,2,3,\"Abhinav\",Tue,1+2j]"
   ]
  },
  {
   "cell_type": "markdown",
   "id": "8fa1d819",
   "metadata": {},
   "source": [
    "3. Float - It is a data type , which stores decimal values , like 89.8 , -8.5"
   ]
  },
  {
   "cell_type": "markdown",
   "id": "1a3b7aff",
   "metadata": {},
   "source": [
    "# Q-4"
   ]
  },
  {
   "cell_type": "markdown",
   "id": "49f257a8",
   "metadata": {},
   "source": [
    "An expression is a combination of operators and operands that is interpreted to produce some other value. An expression is evaluated as per the precedence of its operators"
   ]
  },
  {
   "cell_type": "markdown",
   "id": "8f4de128",
   "metadata": {},
   "source": [
    "# Q-5"
   ]
  },
  {
   "cell_type": "markdown",
   "id": "fa659c1b",
   "metadata": {},
   "source": [
    "An Expression always evaluates to a value. And, A statement does something, like creating a variable or displaying a value, it only does whatever the statement says"
   ]
  },
  {
   "cell_type": "markdown",
   "id": "253e97d0",
   "metadata": {},
   "source": [
    "# Q-6"
   ]
  },
  {
   "cell_type": "code",
   "execution_count": 11,
   "id": "00ceb1e1",
   "metadata": {},
   "outputs": [],
   "source": [
    "Bacon = 22"
   ]
  },
  {
   "cell_type": "code",
   "execution_count": 12,
   "id": "81b22bb6",
   "metadata": {},
   "outputs": [
    {
     "data": {
      "text/plain": [
       "23"
      ]
     },
     "execution_count": 12,
     "metadata": {},
     "output_type": "execute_result"
    }
   ],
   "source": [
    "Bacon+1"
   ]
  },
  {
   "cell_type": "markdown",
   "id": "74c19f8c",
   "metadata": {},
   "source": [
    "# Q-7"
   ]
  },
  {
   "cell_type": "code",
   "execution_count": 13,
   "id": "54e0e0b9",
   "metadata": {},
   "outputs": [
    {
     "data": {
      "text/plain": [
       "'spamspamspam'"
      ]
     },
     "execution_count": 13,
     "metadata": {},
     "output_type": "execute_result"
    }
   ],
   "source": [
    "'spam' + 'spamspam'"
   ]
  },
  {
   "cell_type": "code",
   "execution_count": 14,
   "id": "a7844550",
   "metadata": {},
   "outputs": [
    {
     "data": {
      "text/plain": [
       "'spamspamspam'"
      ]
     },
     "execution_count": 14,
     "metadata": {},
     "output_type": "execute_result"
    }
   ],
   "source": [
    "'spam' * 3"
   ]
  },
  {
   "cell_type": "markdown",
   "id": "efe876b5",
   "metadata": {},
   "source": [
    "# Q-8"
   ]
  },
  {
   "cell_type": "markdown",
   "id": "bbcd5cef",
   "metadata": {},
   "source": [
    "100 is a number value which can't be assigned as a name as this is value, we can only use alphabets to assign a name to variable, where as we can use a100 as a vairable name - we can use number in the variable name , but post a alphabet or word"
   ]
  },
  {
   "cell_type": "markdown",
   "id": "7117b2a5",
   "metadata": {},
   "source": [
    "# Q-9"
   ]
  },
  {
   "cell_type": "markdown",
   "id": "5c20a885",
   "metadata": {},
   "source": [
    "int() , float() , and str( )"
   ]
  },
  {
   "cell_type": "markdown",
   "id": "39c721b1",
   "metadata": {},
   "source": [
    "# Q-10"
   ]
  },
  {
   "cell_type": "markdown",
   "id": "5d054796",
   "metadata": {},
   "source": [
    "'I have eaten' + 99 + 'burritos.'"
   ]
  },
  {
   "cell_type": "markdown",
   "id": "749404e7",
   "metadata": {},
   "source": [
    "We cannot concate int with String\n",
    "But we can correct this by makeing 99 str"
   ]
  },
  {
   "cell_type": "code",
   "execution_count": 20,
   "id": "67d1f4ed",
   "metadata": {},
   "outputs": [
    {
     "data": {
      "text/plain": [
       "'I have eaten 99 burritos.'"
      ]
     },
     "execution_count": 20,
     "metadata": {},
     "output_type": "execute_result"
    }
   ],
   "source": [
    "'I have eaten ' + '99' + ' burritos.'"
   ]
  },
  {
   "cell_type": "code",
   "execution_count": null,
   "id": "8c77dc1f",
   "metadata": {},
   "outputs": [],
   "source": []
  }
 ],
 "metadata": {
  "kernelspec": {
   "display_name": "Python 3 (ipykernel)",
   "language": "python",
   "name": "python3"
  },
  "language_info": {
   "codemirror_mode": {
    "name": "ipython",
    "version": 3
   },
   "file_extension": ".py",
   "mimetype": "text/x-python",
   "name": "python",
   "nbconvert_exporter": "python",
   "pygments_lexer": "ipython3",
   "version": "3.9.7"
  }
 },
 "nbformat": 4,
 "nbformat_minor": 5
}
